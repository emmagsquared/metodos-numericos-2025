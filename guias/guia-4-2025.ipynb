{
 "cells": [
  {
   "cell_type": "markdown",
   "metadata": {},
   "source": [
    "# Métodos Numéricos 2025"
   ]
  },
  {
   "cell_type": "markdown",
   "metadata": {},
   "source": [
    "## Guía 4: 2025-04-29 - Ajuste por Cuadrados Mínimos"
   ]
  },
  {
   "cell_type": "code",
   "execution_count": null,
   "metadata": {},
   "outputs": [],
   "source": [
    "using Plots\n",
    "using LaTeXStrings\n",
    "using DataFrames\n",
    "using CSV\n",
    "using LsqFit\n",
    "using LinearAlgebra"
   ]
  },
  {
   "cell_type": "markdown",
   "metadata": {},
   "source": [
    "### Problema 1 : Ajuste de modelo lineal\n",
    "\n",
    "#### Teoría\n",
    "\n",
    "Supongamos que tenemos una serie de datos $\\{x_i,y_i:i=1,...,n\\}$ y que queremos ajustar un modelo $f$ definido por\n",
    "\n",
    "$$\n",
    "f(x,p) = p_1f_1(x)+p_2f_2(x)+...+p_mf_m(x)\n",
    "$$\n",
    "\n",
    "donde $f_1,f_2,...,f_m$ son algunas funciones de $x$ predefinidas y $p=(p_1,...,p_m)'\\in \\mathbb{R}^{m\\times 1}$ es un vector de parámetros $p_i$ a ajustar. \n",
    "Notar que $f$ depende linealmente de los parámetros $p_i$. \n",
    "En particular, conviene elegir $f_1(x)=1$.\n",
    "\n",
    "Para ajustar $f$ a los datos, minimizaremos el Error Cuadrático (EC) definido por\n",
    "\n",
    "$$\n",
    "E(p) = \\sum_{i=1}^n (f(x_i,p)-y_i)^2\n",
    "$$\n",
    "\n",
    "Las condiciones que determinan el valor de $p$ que minimiza $d$ pueden expresarse como un sistema lineal de $m$ ecuaciones para $m$ incógnitas. \n",
    "Más precisamente, en condiciones ideales deberíamos obtener el valor de $p$ tales que $E(p)\\approx 0$. \n",
    "En otras palabras, los valores de $p_1,....,p_m$ tal que\n",
    "\\begin{eqnarray}\n",
    "p_1f_1(x_1)+...+p_mf_m(x_1) &\\approx& y_1 \\\\\n",
    "... && \\\\\n",
    "p_1f_1(x_n)+...+p_mf_m(x_n) &\\approx& y_n \\\\\n",
    "\\end{eqnarray}\n",
    "lo cual constituye en sistema de ecuaciones lineales para los $p_i$ que se satisface aproximadamente.\n",
    "Desafortunadamente, la condición anterior raramente se satisface.\n",
    "Sólo podremos aspirar a minimizar $E(p)$.\n",
    "Entonces, surge la siguiente pregunta.\n",
    "¿Cómo logramos minimizar el error cuadrático $E$ en función del vector de parámetros $p$?\n",
    "Para ello, notar que el error cuadrático puede reescribirse de manera matricial como\n",
    "\\begin{eqnarray}\n",
    "E(p) &=& (Fp-y)'(Fp-y) \\\\\n",
    "&=& (p'F'-y')(Fp-y) \\\\\n",
    "&=& p'F'Fp - p'F'y - y'Fp + y'y\n",
    "\\end{eqnarray}\n",
    "donde $F$ es la matriz de entradas $F_{ij} = f_j(x_i)$ para $i=1,...,n$ y $j=1,...,m$, y donde $p'=(p_1,...,p_m)$, $F'$, $y'=(y_1,...,y_n)$ y $(Fp-y)'$ representan los vectores y matrices traspuestas de los vectores y matrices $p\\in \\mathbb{R}^{m\\times 1}$, $F\\in \\mathbb{R}^{n\\times m}$, $y\\in \\mathbb{R}^{n\\times 1}$ y $(Fp-y)\\in \\mathbb{R}^{n\\times 1}$, respectivamente.\n",
    "Esto nos permite buscar la respuesta apelando a cálculo.\n",
    "Es decir, buscamos el valor de $p$ para el cuál se anula la derivada direccional\n",
    "$$\n",
    "\\partial_qE(p)\n",
    "=\n",
    "\\lim_{\\epsilon \\to 0} \\frac{E(p+\\epsilon q)-E(p)}{\\epsilon}\n",
    "$$\n",
    "para toda dirección de $q\\in \\mathbb{R}^{m\\times 1}$.\n",
    "Veamos cómo calcular dicha derivada.\n",
    "Entonces\n",
    "\\begin{eqnarray}\n",
    "\\lim_{\\epsilon\\to 0}\n",
    "\\frac{E(p+\\epsilon q)-E(p)}{\\epsilon}\n",
    "&=&\n",
    "q'F'Fp + p'F'Fq - q'F'y - y'Fq\n",
    "\\\\\n",
    "&=&\n",
    "q'(F'Fp-F'y) + (p'F'F-y'F)q\n",
    "\\\\\n",
    "&=&\n",
    "q'c + c'q\n",
    "\\\\\n",
    "\\end{eqnarray}\n",
    "donde hemos introducido el vector $c = F'Fp-F'y\\in \\mathbb{R}^{n\\times 1}$.\n",
    "Luego, la condición extremal $0=\\partial_qd(p)=q'c + c'q$ se satisface para toda dirección $q$ si y sólo si $c=0$, o equivalentemente, si y sólo si\n",
    "$$\n",
    "F'Fp=F'y\n",
    "$$\n",
    "Este es un sistema de ecuaciones lineales para $p$ dado por\n",
    "$$\n",
    "Ap=b\n",
    "$$\n",
    "donde $A:=F'F$ y $b:=F'y$.\n",
    "Si las columnas de $F$ son linealmente independientes (típicamente lo son), luego $A=F'F$ es invertible y, por ende, $p=A^{-1}b=(F'F)^{-1}F'y$ es solución.\n",
    "Si por alguna razón $F$ tiene columnas linealmente dependientes, luego el sistema $Ap=b$ es degenerado, es decir, tiene múltiple soluciones.\n",
    "Aún así, $p^+=(F'F)^{-1}F'y = F^+y$ representa la solución $p$ que minimiza la norma $|p|$, donde reconocemos en $F^+:=(F'F)^{-1}F'$ a la pseudo-inversa de Moore-Penrose.\n",
    "\n",
    "#### Estimación de errores\n",
    "\n",
    "$\\newcommand{\\avrg}[1]{\\langle #1 \\rangle}$\n",
    "Una estimación de la varianza del $i$-ésimo parámetro $p_i$ debido a los errores experimentales en las mediciones de los valores $y_j$ viene dada por (ver [4])\n",
    "\n",
    "$$\\mathrm{Var}(p_i) = \\sigma^2 (F'F)^{-1}_{ii}$$\n",
    "\n",
    "donde\n",
    "\n",
    "$$\\sigma^2 = \\frac{1}{n-m}E(p)$$\n",
    "\n",
    "es un estimador de la varianza del ruido en los valores de los $y_j$. Luego, una estimación del error asociado al $i$-ésimo parámetro $p_i$ es la raíz cuadrada de dicha varianza, $\\sqrt{\\mathrm{Var}(p_i)}$.\n",
    "\n",
    "#### Referencias\n",
    "\n",
    "[1] https://www.youtube.com/watch?v=jezAWd6GFRg\n",
    "\n",
    "[2] https://math.stackexchange.com/questions/20694/vector-derivative-w-r-t-its-transpose-fracdaxdxt\n",
    "\n",
    "[3] https://en.wikipedia.org/wiki/Moore%E2%80%93Penrose_inverse\n",
    "\n",
    "[4] https://stats.stackexchange.com/questions/216335/standard-error-for-a-parameter-in-ordinary-least-squares\n",
    "\n",
    "### Ejercicios \n",
    "\n",
    "1. Cargue los datos provistos en el archivo `cuadratica.txt` en dos vectores $x$ e $y$, y luego grafíquelos utilizando puntos.\n",
    "\n",
    "2. Con dichos vectores, calcule la matriz $A$ y el vector $b$ para el caso particular en que $f_1(x) = 1$, $f_2(x) = x$ y $f_3(x) = x^2$.\n",
    "\n",
    "3. Utilice $A$ y $b$ para encontrar el mejor ajuste $p$, y grafique el modelo ajustado junto a los datos.\n",
    "\n",
    "4. Calcule la estimación de los errores de los parámetros ajustados (ver teoría abajo).\n",
    "\n",
    "5. Repita el ajuste usando el paquete `LsqFit` y compare resultados."
   ]
  },
  {
   "cell_type": "markdown",
   "metadata": {},
   "source": [
    "**Ayuda:** Para cargar los datos, utilice los paquetes `CSV` y/o `DataFrames`."
   ]
  },
  {
   "cell_type": "code",
   "execution_count": null,
   "metadata": {},
   "outputs": [],
   "source": [
    "# 1.1)"
   ]
  },
  {
   "cell_type": "markdown",
   "metadata": {},
   "source": [
    "### Problema 2 : Ajuste no lineal\n",
    "\n",
    "1. Utilizando el paquete `LsqFit`, ajuste un conjunto de mediciones almacenadas en el archivo de texto llamado `decaimiento.txt` con la función \n",
    "$$\n",
    "f(x) = c_1 e^{-c_2x}\n",
    "$$\n",
    "\n",
    "2. Determine los valores de $a$ y $b$ ajustados.\n",
    "\n",
    "3. Genere un gráfico que muestre tanto los datos medidos como la curva ajustada.\n",
    "\n",
    "4. Transforme los valores de $y=f(x)$ a la escala logarítmica $z=\\ln y = \\ln a - bx$ para poder realizar un ajuste lineal de $z$ vs $x$. Utilice el método de ajuste lineal del Problema 1. para ajustar el modelo $f(x) = p_1+p_2x$ a los datos $z$ vs $x$. Calcule las estimaciones de los errores del ajuste de los parámetros."
   ]
  },
  {
   "cell_type": "code",
   "execution_count": null,
   "metadata": {},
   "outputs": [],
   "source": [
    "# 2.1)"
   ]
  }
 ],
 "metadata": {
  "@webio": {
   "lastCommId": null,
   "lastKernelId": null
  },
  "kernelspec": {
   "display_name": "Julia 1.11.4",
   "language": "julia",
   "name": "julia-1.11"
  },
  "language_info": {
   "file_extension": ".jl",
   "mimetype": "application/julia",
   "name": "julia",
   "version": "1.11.4"
  }
 },
 "nbformat": 4,
 "nbformat_minor": 4
}
