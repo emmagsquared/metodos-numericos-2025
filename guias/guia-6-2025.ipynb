{
 "cells": [
  {
   "cell_type": "markdown",
   "metadata": {},
   "source": [
    "# Métodos Numéricos (2025)\n",
    "\n",
    "## Guía 6: Integración Numérica"
   ]
  },
  {
   "cell_type": "code",
   "execution_count": null,
   "metadata": {},
   "outputs": [],
   "source": [
    "using Plots\n",
    "using LaTeXStrings"
   ]
  },
  {
   "cell_type": "markdown",
   "metadata": {},
   "source": [
    "## Problema 1\n",
    "1. Haciendo los calculos a mano y trabajando con 7 cifras significativas, encuentre las aproximaciones a las integrales definidas:\n",
    "\n",
    "    1. $I_1 = \\int_0^1 x^4 dx$\n",
    "\n",
    "    2. $I_2 = \\int_0^{\\pi} \\sin{(x)} dx$\n",
    "\n",
    "utilizando las reglas simples de *i) punto medio*, *ii) trapecio* y *iii) Simpson*. \n",
    "\n",
    "2. Calcule el error absoluto y el error relativo en cada caso y para cada método."
   ]
  },
  {
   "cell_type": "markdown",
   "metadata": {},
   "source": [
    "**Teoría**\n",
    "\n",
    "La regla simple del punto medio es:\n",
    "$$\n",
    "\\int_a^b dx\\, f(x) \\approx (b-a)f\\bigg(\\frac{a+b}{2}\\bigg)\n",
    "$$\n",
    "\n",
    "La regla simple del trapecio es:\n",
    "$$\n",
    "\\int_a^b dx\\, f(x) \\approx \\frac{b-a}{2}\\bigg(f(a) + f(b)\\bigg)\n",
    "$$\n",
    "\n",
    "La regla simple de Simpson es:\n",
    "$$\n",
    "\\int_a^b dx\\, f(x) \\approx \\frac{b-a}{6}\\bigg(f(a) + 4f\\bigg(\\frac{a+b}{2}\\bigg) + f(b)\\bigg)\n",
    "$$"
   ]
  },
  {
   "cell_type": "markdown",
   "metadata": {},
   "source": [
    "### Rta 1.1.A"
   ]
  },
  {
   "cell_type": "markdown",
   "metadata": {},
   "source": []
  },
  {
   "cell_type": "markdown",
   "metadata": {},
   "source": [
    "## Problema 2\n",
    "\n",
    "1. Repita el problema 1 dividiendo el intervalo de integración en dos subintervalos de igual tamaño. Es decir:\n",
    "\n",
    "    1. $I_1=\\int_0^{1/2} x^4 dx+ \\int_{1/2}^1 x^4 dx$\n",
    "\n",
    "    2. $I_2=\\int_0^{\\pi/2}\\sin{(x)}dx+\\int_{\\pi/2}^{\\pi}\\sin{(x)} dx$\n",
    "\n",
    "2. Compare resultados con lo obtenido en el problema 1."
   ]
  },
  {
   "cell_type": "markdown",
   "metadata": {},
   "source": [
    "### Rta 2.1.A"
   ]
  },
  {
   "cell_type": "code",
   "execution_count": null,
   "metadata": {},
   "outputs": [],
   "source": []
  },
  {
   "cell_type": "markdown",
   "metadata": {},
   "source": [
    "## Problema 3\n",
    "1. Construya funciones que dada una función arbitraria, retornen  las aproximaciones numéricas $S_M$, $S_T$ y $S_S$ a una integral de la forma\n",
    "$$\n",
    "I = \\int_a ^b f(x) dx\n",
    "$$\n",
    "utilizando las reglas compuestas del *punto medio*, del *trapecio* y de *Simpson*, respectivamente.\n",
    "Las funciones deben evaluar el integrando $f(x)$ en $n+1$ puntos equiespaciados $x_i$ para $i=0,1,2,...,n$ y con espaciamiento $h=(b-a)/n$.\n",
    "En el caso del punto medio, se evalúa en los $x_i+h/2$ para $i=0,1,...,n-1$.\n",
    "\n",
    "2. Calcule $S_M$, $S_T$ y $S_S$ para la integral:\n",
    "$$\n",
    "I = \\int _0 ^1 e^{-x} dx\n",
    "$$\n",
    "Utilice un espaciamiento $h_1=0.05$ en ambos casos. Luego repita el procedimiento disminuyendo su espaciamiento a la mitad, $h_2=h_1/2=0.025$.\n",
    "\n",
    "3. Teniendo en cuenta que es posible conocer el resultado exacto de la integral en cuestión, evalúe el error\n",
    "$\\varepsilon(h)=|S-I|$, para $h=0.05$ y $h=0.025$ para los tres métodos de aproximación.\n",
    "Verifique que el cociente de precisión, definido como \n",
    "$$\n",
    "Q = \\frac{\\varepsilon(h)}{\\varepsilon(h/2)}\n",
    "$$\n",
    "toma un valor aproximado a $4$ cuando se usa la regla del *punto medio* y del *trapecio*, y un valor aproximado a $16$ cuando se usa la regla de *Simpson*. \n",
    "Teniendo en cuenta la expresión del error de truncamiento en cada caso, justifique este resultado.\n",
    "\n",
    "**Consejo:** tener cuidado con *Simpson* en elegir siempre un número par de intervalos, i.e, un número impar de puntos. Pruebe con una integral conocida, qué resultados da cuando usa un número impar de intervalos. Incluya en la función para dicho método un chequeo de que el número de puntos sea par."
   ]
  },
  {
   "cell_type": "markdown",
   "metadata": {},
   "source": [
    "**Teoría**\n",
    "\n",
    "Consideremos el intervalo $[a,b]$ y $n+1$ puntos equiespaciados $x_i=a+ih$ con $h=(b-a)/n$, de manera que $x_0=a$, $x_1=a+h$,...,$x_n=a+hn=a+\\frac{b-a}{n}.n=a+b-a=b$. Notar que hemos dividido el intervalo $[a,b]$ en $n$ intervalos consecutivos de tamaño $h$.\n",
    "\n",
    "La regla del punto medio compuesta es:\n",
    "\n",
    "\\begin{eqnarray}\n",
    "\\int_a^b dx\\,f(x) \n",
    "&=&\n",
    "\\sum_{i=1}^{n} \\int_{x_{i-1}}^{x_i} dx\\, f(x) \n",
    "\\\\\n",
    "&\\approx& \n",
    "\\sum_{i=1}^{n} (x_i-x_{i-1})f\\bigg(\\frac{x_{i-1}+x_i}{2}\\bigg) \n",
    "\\\\\n",
    "&=&\n",
    "\\sum_{i=1}^{n} hf\\bigg(\\frac{a+h(i-1)+a+hi}{2}\\bigg) \n",
    "\\\\\n",
    "&=&\n",
    "\\sum_{i=1}^{n} hf(a+hi-h/2) \n",
    "\\end{eqnarray}\n",
    "\n",
    "La regla del trapecio compuesta es:\n",
    "\n",
    "\\begin{eqnarray}\n",
    "\\int_a^b dx\\,f(x) \n",
    "&=&\n",
    "\\sum_{i=1}^{n} \\int_{x_{i-1}}^{x_i} dx\\, f(x) \n",
    "\\\\\n",
    "&\\approx& \n",
    "\\sum_{i=1}^{n} \\frac{x_i-x_{i-1}}{2}\\bigg(f(x_{i-1})+f(x_i)\\bigg)\n",
    "\\\\\n",
    "&=& \n",
    "\\sum_{i=1}^{n} \\frac{h}{2}\\bigg(f(x_{i-1})+f(x_i)\\bigg)\n",
    "\\\\\n",
    "&=& \n",
    "\\frac{h}{2}\\bigg(f(x_0)+f(x_1)\\bigg)\n",
    "+\n",
    "\\frac{h}{2}\\bigg(f(x_1)+f(x_2)\\bigg)\n",
    "+\n",
    "...\n",
    "+\n",
    "\\frac{h}{2}\\bigg(f(x_{n-2})+f(x_{n-1})\\bigg)\n",
    "+\n",
    "\\frac{h}{2}\\bigg(f(x_{n-1})+f(x_{n})\\bigg)\n",
    "\\\\\n",
    "&=& \n",
    "\\frac{h}{2}\\bigg(f(a)+2f(x_1)+2f(x_2)+...+2f(x_{n-1}+f(x_n))\\bigg)\n",
    "\\\\\n",
    "&=& \n",
    "h\\bigg(\\frac{f(a)+f(b)}{2}+\\sum_{i=1}^{n-1}f(x_i)\\bigg)\n",
    "\\\\\n",
    "&=& \n",
    "\\frac{h}{2}\\bigg(f(a)+f(b)+2\\sum_{i=1}^{n-1}f(a+hi)\\bigg)\n",
    "\\end{eqnarray}\n",
    "\n",
    "Asumiendo $n$ par, la regla de Simpson compuesta puede escribirse como:\n",
    "\n",
    "\\begin{eqnarray}\n",
    "\\int_a^b dx\\,f(x) \n",
    "&=&\n",
    "\\sum_{i=1}^{n/2} \\int_{x_{2(i-1)}}^{x_{2i}} dx\\, f(x) \n",
    "\\\\\n",
    "&\\approx& \n",
    "\\sum_{i=1}^{n/2} \\frac{x_{2i}-x_{2(i-1)}}{6}\\bigg(f(x_{2(i-1)}) + 4f\\bigg(\\frac{x_{2i}+x_{2(i-1)}}{2}\\bigg) + f(x_{2i})\\bigg) \n",
    "\\\\\n",
    "&=& \n",
    "\\sum_{i=1}^{n/2} \\frac{2h}{6}\\bigg(f(x_{2i-2}) + 4f\\bigg(\\frac{a+2(i-1)h+a+2ih}{2}\\bigg) + f(x_{2i})\\bigg)\n",
    "\\\\\n",
    "&=& \n",
    "\\sum_{i=1}^{n/2} \\frac{h}{3}\\bigg(f(x_{2i-2}) + 4f\\bigg(\\frac{2a+4ih-2h}{2}\\bigg) + f(x_{2i})\\bigg)\n",
    "\\\\\n",
    "&=& \n",
    "\\sum_{i=1}^{n/2} \\frac{h}{3}\\bigg(f(x_{2i-2}) + 4f(a+(2i-1)h) + f(x_{2i})\\bigg)\n",
    "\\\\\n",
    "&=& \n",
    "\\sum_{i=1}^{n/2} \\frac{h}{3}\\bigg(f(x_{2i-2}) + 4f(x_{2i-1}) + f(x_{2i})\\bigg)\n",
    "\\\\\n",
    "&=& \n",
    "\\frac{h}{3}\\bigg(f(x_0) + 4f(x_1) + f(x_2)\\bigg)\n",
    "+\n",
    "\\frac{h}{3}\\bigg(f(x_2) + 4f(x_3) + f(x_4)\\bigg)\n",
    "\\\\\n",
    "&&\n",
    "+\n",
    "...\n",
    "+\n",
    "\\\\\n",
    "&&\n",
    "\\frac{h}{3}\\bigg(f(x_{n-4}) + 4f(x_{n-3}) + f(x_{n-2})\\bigg)\n",
    "+\n",
    "\\frac{h}{3}\\bigg(f(x_{n-2}) + 4f(x_{n-1}) + f(x_{n})\\bigg)\n",
    "\\\\\n",
    "&=& \n",
    "\\frac{h}{3}\\bigg(f(x_0) + f(x_{2n}) + 2\\sum_{j=1}^{n/2-1} f(x_{2j}) + 4\\sum_{j=1}^{n/2} f(x_{2j-1})\\bigg)\n",
    "\\\\\n",
    "&=& \n",
    "\\frac{h}{3}\\bigg(f(a) + f(b) + 2\\sum_{j=1}^{n/2-1} f(x_{2j}) + 4\\sum_{j=1}^{n/2} f(x_{2j-1})\\bigg)\n",
    "\\end{eqnarray}"
   ]
  },
  {
   "cell_type": "markdown",
   "metadata": {},
   "source": [
    "### Rta 3.1"
   ]
  },
  {
   "cell_type": "code",
   "execution_count": null,
   "metadata": {},
   "outputs": [],
   "source": []
  },
  {
   "cell_type": "markdown",
   "metadata": {},
   "source": [
    "## Problema 4\n",
    "\n",
    "1. Para los métodos de integración numérica del problema 3, implemente fórmulas de estimación del error en función de el número de puntos $n$, una cota máxima $M$ asociada a $f(x)$ o alguna de sus derivadas, y los extremos $a$ y $b$ del intérvalo de integración.\n",
    "\n",
    "2. Indique, para cada método, el mínimo $n$ necesario para alcanzar un error relativo menor a $10^{-7}$ de las siguientes integrales\n",
    "\n",
    "    1. $\\int_0^{1/2} \\frac{2}{x-4} \\; dx$\n",
    "\n",
    "    2. $\\int_1^{3/2} x^2 \\log x \\; dx$\n",
    "\n",
    "3. Compruebe usando los métodos del problema 3 si las estimaciones de $n$ son adecuadas."
   ]
  },
  {
   "cell_type": "markdown",
   "metadata": {},
   "source": [
    "### Rta 4.1"
   ]
  },
  {
   "cell_type": "markdown",
   "metadata": {},
   "source": [
    "#### Teoría\n",
    "\n",
    "**Punto medio**\n",
    "\n",
    "Asumiendo $b>a$, la cota del error para el método de *punto medio* es (ver https://en.wikipedia.org/wiki/Riemann_sum)\n",
    "\n",
    "$$\n",
    "\\varepsilon_M = |I-S_M| \n",
    "\\leq \n",
    "\\frac{M_2(b-a)^3}{24n^2}\n",
    "$$\n",
    "\n",
    "donde $M_2=\\sup_{a\\leq x\\leq b} |f''(x)|$.\n",
    "\n",
    "Para el método del *trapecio* es\n",
    "$$\n",
    "\\varepsilon_T = |I-S_T| \n",
    "\\leq \n",
    "\\frac{M_2(b-a)^3}{12n^2}\n",
    "$$\n",
    "\n",
    "Para el método de *Simpson* es (ver https://en.wikipedia.org/wiki/Simpson%27s_rule#Error)\n",
    "$$\n",
    "\\varepsilon_S = |I-S_S| \n",
    "\\leq \n",
    "\\frac{M_4h^4}{180}\n",
    "=\n",
    "\\frac{M_4(b-a)^5}{180n^4}\n",
    "$$\n",
    "donde $M_4=\\sup_{a\\leq x\\leq b} |f''''(x)|$.\n",
    "\n",
    "**Notar:** que podemos estimar valores de $n$ para el caso del error absoluto despejando.\n",
    "Para *punto medio* obtenemos:\n",
    "\n",
    "\\begin{eqnarray}\n",
    "\\varepsilon_M \n",
    "&=&\n",
    "\\frac{M_2(b-a)^3}{24n^2}\n",
    "\\\\\n",
    "n^2\n",
    "&=&\n",
    "\\frac{M_2(b-a)^3}{24\\varepsilon_M }\n",
    "\\\\\n",
    "n\n",
    "&=&\n",
    "\\sqrt{\\frac{M_2(b-a)^3}{24\\varepsilon_M}}\n",
    "\\end{eqnarray}\n",
    "\n",
    "Para *trapecio* obtenemos:\n",
    "\n",
    "\\begin{eqnarray}\n",
    "\\varepsilon_T \n",
    "&=&\n",
    "\\frac{M_2(b-a)^3}{12n^2}\n",
    "\\\\\n",
    "n^2\n",
    "&=&\n",
    "\\frac{M_2(b-a)^3}{12\\varepsilon_T }\n",
    "\\\\\n",
    "n\n",
    "&=&\n",
    "\\sqrt{\\frac{M_2(b-a)^3}{12\\varepsilon_T}}\n",
    "\\end{eqnarray}\n",
    "\n",
    "Y para *Simpson* obtenemos:\n",
    "\n",
    "\\begin{eqnarray}\n",
    "\\varepsilon_S \n",
    "&=&\n",
    "\\frac{M_4(b-a)^5}{180n^4}\n",
    "\\\\\n",
    "n^4\n",
    "&=&\n",
    "\\frac{M_4(b-a)^5}{180\\varepsilon_S}\n",
    "\\\\\n",
    "n\n",
    "&=&\n",
    "\\bigg(\\frac{M_4(b-a)^5}{180\\varepsilon_S}\\bigg)^{1/4}\n",
    "\\\\\n",
    "\\end{eqnarray}"
   ]
  },
  {
   "cell_type": "code",
   "execution_count": null,
   "metadata": {},
   "outputs": [],
   "source": []
  },
  {
   "cell_type": "markdown",
   "metadata": {},
   "source": [
    "## Problema 5\n",
    "**Comparación de métodos.**\n",
    "\n",
    "1. Aproxime la integral\n",
    "\\begin{equation*}\n",
    "I = \\int_0^1 e^{-t} dt = 1 - e^{-1}  \\nonumber              \n",
    "\\end{equation*}\n",
    "empleando los algoritmos del problema 3.\n",
    "\n",
    "2. Calcule el error relativo $E$ para $n\\in [2,4,8,...,4096]$ ($n=2^i$ con $i=1,2,...$) y grafique $E$ vs $n$ en *log-log*.\n",
    "\n",
    "\n",
    "3. Verifique visualmente que se satisfacen leyes de potencia\n",
    "$$\n",
    "E = Cn^{-\\alpha}\n",
    "$$\n",
    "y estime visualmente los valores de $C>0$ y $\\alpha>0$.\n",
    "\n",
    "4. Use el gráfico para estimar, para cada método, el mínimo $n$ al cuál se alcanza una precisión $E<10^{-7}$.\n",
    "\n",
    "5. Repita los incisos anteriores en `Float16` y `Float32`.\n",
    "\n",
    "6. Determine si el error de redondeo es relevante en estos casos."
   ]
  },
  {
   "cell_type": "markdown",
   "metadata": {},
   "source": [
    "### Rta 5.1"
   ]
  },
  {
   "cell_type": "code",
   "execution_count": null,
   "metadata": {},
   "outputs": [],
   "source": []
  },
  {
   "cell_type": "markdown",
   "metadata": {},
   "source": [
    "## Problema 6\n",
    "En el repositorio se encuentran dos archivos de datos, \n",
    "\n",
    "    mediciones1-c1-g6.dat \n",
    "    mediciones2-c1-g6.dat\n",
    "\n",
    "Los mismos almacenan mediciones de una función $f(t)$ sobre un mismo rango de $t$. El primero muestrea $n=629$ puntos y el segundo $n=10001$.\n",
    "\n",
    "1. Baje y grafique los datos.\n",
    "\n",
    "2. Copie y modifique los algoritmos del problema 3 para integrar muestreos de funciones.\n",
    "\n",
    "3. Integre los muestreos y compare."
   ]
  },
  {
   "cell_type": "markdown",
   "metadata": {},
   "source": [
    "### Rta 6.1"
   ]
  },
  {
   "cell_type": "code",
   "execution_count": null,
   "metadata": {},
   "outputs": [],
   "source": []
  },
  {
   "cell_type": "markdown",
   "metadata": {},
   "source": [
    "# Ejercicios Complementarios"
   ]
  },
  {
   "cell_type": "markdown",
   "metadata": {},
   "source": [
    "## Problema C.1\n",
    "\n",
    "Idem problema 4, para las siguientes integrales: \n",
    "1. $\\int_{1/2}^1 x^4 dx$\n",
    "2. $\\int_0^{\\pi/4} x \\sin x dx$"
   ]
  },
  {
   "cell_type": "markdown",
   "metadata": {},
   "source": [
    "**Teoría:** Para los metodos de punto medio y trapecio el error es $\\mathcal{O}(h^2)$ y está acotado por (en término de n):\n",
    "\n",
    "$$\n",
    "E_T = \\frac{(b-a)^3}{12n^2}M_2 \\;\\;\\;\\;\\;\\;\\; E_M = \\frac{(b-a)^3}{24n^2}M_2,\n",
    "$$\n",
    "\n",
    "donde \n",
    "$$\n",
    "M_2 = \\max_{x \\in [a,b]}\\{|f''(x)|\\}\n",
    "$$\n",
    "\n",
    "Para el método de Simpson el error es $\\mathcal{O}(h^4)$ está acotado por \n",
    "\n",
    "$$\n",
    "E_S = \\frac{(b-a)^5}{180n^4}M_4 \n",
    "$$\n",
    "\n",
    "donde \n",
    "$$\n",
    "M_4 = \\max_{x \\in [a,b]}\\{|f^{(4)}(x)|\\}\n",
    "$$\n"
   ]
  },
  {
   "cell_type": "markdown",
   "metadata": {},
   "source": [
    "### Rta C.1.1"
   ]
  },
  {
   "cell_type": "markdown",
   "metadata": {},
   "source": [
    "Para la función $f(x) = x^4$ en el intervalo $[\\frac{1}{2},1]$ tenemos que $M_2=12$ y $M_4=24$.\n",
    "\n",
    "Por otro lado la integral está acotada por debajo por $I_{min}=1/2^4$. \n",
    "Por lo tanto para los métodos considerados tenemos que:\n",
    "\n",
    "\n",
    "$$\n",
    "n_M = \\sqrt{\\frac{1/2^3 * 12}{24}\\frac{1}{I_{min}E_R}} = \\sqrt{2*10^7} \\approx 5*10^4\n",
    "$$\n",
    "\n",
    "$$\n",
    "n_T \\approx 6*10^4\n",
    "$$\n",
    "\n",
    "$$\n",
    "n_S = (\\frac{1/2^5 * 24}{180}\\frac{1}{I_{min}E_R})^{\\frac14} = (\\frac{24}{180}*10^7)^{\\frac14} \\approx 33\n",
    "$$\n",
    "\n",
    "Recordando que \n",
    "\n",
    "$$\n",
    "\\int_{1/2}^1 x^4\\; dx = \\frac15(1-\\frac12^5) = \\frac{31}{32*5} \n",
    "$$"
   ]
  },
  {
   "cell_type": "code",
   "execution_count": null,
   "metadata": {},
   "outputs": [],
   "source": []
  },
  {
   "cell_type": "markdown",
   "metadata": {},
   "source": [
    "## Problema C.2\n",
    "**Integración numérica en dos dimensiones**\n",
    "1. Haga un programa que integre funciones en la region $a\\le x \\le b\\,;\\;c \\le y \\le d$ siguiendo el código delineado en la clase teórica, usando el método de cuadratura de Simpson en cada coordenada.\n",
    "2. Evalue nume\n",
    "ricamente con no menos de 8 cifras significativas las integrales\n",
    "$$\n",
    "\\int_0^2\\,dx\\, \\int_0^1\\,dy\\, e^{-x\\,y} \\;\\;\\;\\;\\;\\;\\;\\;\\;\\;\\;\\;\\;\\;\n",
    "\\int_{7/5}^2\\,dx\\, \\int_1^{3/2}\\,dy\\, \\ln{(x+2 y)}\n",
    "$$\n",
    "3. Modifique el programa para permitir que los límites de integración en $y$ sean función de $x$ y evalue la integral\n",
    "$$\n",
    "\\int_0^1\\,dx\\, \\int_0^{\\sqrt{1-x^2}}\\,dy\\, e^{-x\\,y} \n",
    "$$"
   ]
  },
  {
   "cell_type": "markdown",
   "metadata": {},
   "source": [
    "### Rta C.2.1"
   ]
  },
  {
   "cell_type": "code",
   "execution_count": null,
   "metadata": {},
   "outputs": [],
   "source": []
  }
 ],
 "metadata": {
  "@webio": {
   "lastCommId": null,
   "lastKernelId": null
  },
  "kernelspec": {
   "display_name": "Julia 1.11.5",
   "language": "julia",
   "name": "julia-1.11"
  },
  "language_info": {
   "file_extension": ".jl",
   "mimetype": "application/julia",
   "name": "julia",
   "version": "1.11.5"
  }
 },
 "nbformat": 4,
 "nbformat_minor": 4
}
