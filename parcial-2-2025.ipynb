{
 "cells": [
  {
   "cell_type": "markdown",
   "metadata": {},
   "source": [
    "# Métodos Numéricos 2025"
   ]
  },
  {
   "cell_type": "markdown",
   "metadata": {},
   "source": [
    "## Parcial 2 - Guías 3, 4 y 5\n",
    "\n",
    "**Fecha de entrega:** Viernes 16 de Mayo de 2025 hasta las 23:59h.\n",
    "\n",
    "## Nombres\n",
    "\n",
    "* Juana Perez, DNI: 10.000.000\n",
    "* Juan  Perez, DNI: 10.000.001\n",
    "\n",
    "## Nota sobre la programación en Julia\n",
    "\n",
    "Recuerde que su notebook tiene que poder ser entendida por otra persona. Para ello:\n",
    "\n",
    "* Cuando crea conveniente, use celdas/texto Markdown para desarrollar o comentar una idea.\n",
    "\n",
    "* Agregue comentarios a su código de ser necesario.\n",
    "\n",
    "* Realice gráficos que tengan etiquetas en los ejes y leyendas para cada curva o serie de puntos graficados.\n",
    "\n",
    "* Procure respetar reglas de buena programación:\n",
    "\n",
    "    * Use sangrías (indentación o bloques) adecuadamente y recuerde el concepto de alcance (o scope).\n",
    "\n",
    "    * Cuando sea posible, implemente funciones de caracter general, en vez de código específico a cada problema, facilitando así la reutilización de código.\n",
    "\n",
    "    * Implemente funciones que tengan los argumentos necesarios para su buen funcionamiento, en vez de utilizar variables globales.\n",
    " \n",
    "* **IMPORTANTE:** Antes de enviar el notebook para su corrección, no olvide resetear el kernel y re-evaluar nuevamente todas las celdas en orden, procurando que los resultados sean correctos."
   ]
  },
  {
   "cell_type": "code",
   "execution_count": 1,
   "metadata": {},
   "outputs": [],
   "source": [
    "using Plots\n",
    "using LaTeXStrings\n",
    "using DataFrames\n",
    "using CSV\n",
    "using LsqFit"
   ]
  },
  {
   "cell_type": "markdown",
   "metadata": {},
   "source": [
    "### Problema 1\n",
    "\n",
    "Considere la función definida por la relación\n",
    "$$\n",
    "f(x) = \\mathrm{tanh}(1+x)\n",
    "$$\n",
    "en el intervalo $[-2,2]$.\n",
    "\n",
    "1. Calcule el polinomio interpolante en los puntos determinados por `-2.0:1.0:2.0` utilizando:\n",
    "    1. el método de Lagrange, y\n",
    "    2. el método de Newton.\n",
    "2. Grafique, en una misma figura y en el intervalo mencionado:\n",
    "    1. la función $f$ (usando una curva),\n",
    "    2. los puntos interpolantes (usando puntos),\n",
    "    3. el polinomio interpolante calculado con el método de Lagrange (usando una curva), y\n",
    "    4. el polinomio interpolante calculado con el método de Newton (usando una curva).\n",
    "3. Grafique, en una nueva figura y en el intervalo mencionado, el error absoluto entre los polinomios calculados con ambos métodos.\n",
    "4. Coinciden? Elabore."
   ]
  },
  {
   "cell_type": "code",
   "execution_count": null,
   "metadata": {},
   "outputs": [],
   "source": []
  },
  {
   "cell_type": "markdown",
   "metadata": {},
   "source": [
    "### Problema 2: Derivación numérica\n",
    "\n",
    "Considere la función\n",
    "\n",
    "$$f(x) = \\cos(5x) e^{2x}$$\n",
    "\n",
    "1. Calcule analíticamente su derivada $f'(x)$, y grafiquela en el intervalo $[0,2]$.\n",
    "\n",
    "2. Agregue al gráfico anterior, las aproximaciones de la derivada obtenidas con las fórmulas centrada de 3 y 5 puntos, respectivamente:\n",
    "\n",
    "    $$\n",
    "    D_3f(x) := \\,\\frac{f(x+h) - f(x-h)}{2 h}\n",
    "    $$   \n",
    "    \n",
    "    $$\n",
    "    D_5f(x) := \\,\\frac{1}{12 h} \\left(f(x-2 h)-8 f(x-h)+8 f(x+h)-f(x+2 h)\n",
    "    \\right)\n",
    "    $$\n",
    "\n",
    "    para un paso de $h=0.1$.\n",
    "\n",
    "3. Grafique el error absoluto de la fórmula centrada de 3 puntos, $|f'(x) - D_3f(x)|$, considerando el mismo paso $h=0.1$ y el mismo intervalo $[0,2]$. Estime una cota para el error en dicho intervalo, y compare con lo hallado numéricamente. [Ayuda: para el $h$ considerado aquí, el error estará dominado por aquel asociado a la fórmula de la derivada centrada de 3 puntos, que puede acotarse por $\\frac{M}{6}h^2$, donde $|f^{(3)}(\\xi)|<M$ para todo $\\xi$ en el intervalo].\n",
    "\n",
    "4. Evalúe la fórmula centrada de 5 puntos en $x_0 = 1.5$ para distintos valores de $h = 2^{-k}$, con $k \\in \\{2,...,24\\}$. Grafique el error relativo de la aproximación en función de $h$ en escala **log-log**.\n",
    "\n",
    "5. Discuta el gráfico anterior, poniendo el foco en la influencia de los errores asociados a la fórmula centrada de 5 puntos y los errores numéricos de redondeo asociados al épsilon de la máquina (en este caso, en **Float64**). Encuentre las pendientes en los rangos de $h$ en donde domina cada uno de estos dos tipos de errores, y agregue dichas pendientes a modo indicativo sobre el gráfico."
   ]
  },
  {
   "cell_type": "code",
   "execution_count": null,
   "metadata": {},
   "outputs": [],
   "source": []
  },
  {
   "cell_type": "markdown",
   "metadata": {},
   "source": [
    "### Problema 3: Ajuste por cuadrados mínimos\n",
    "\n",
    "Se proveen el archivo de datos: `datos_prob3.dat`.\n",
    "El objetivo es determinar cuál de las siguientes tres funciones ajusta mejor los datos, usando el paquete `LsqFit` de Julia.\n",
    "\n",
    "* Función 1 (lineal): \n",
    "$$\n",
    "f_1(x) = a_1 x + b_1\n",
    "$$\n",
    "* Función 2 (cúbica): \n",
    "$$\n",
    "f_2(x) = -a_2 x^3 + b_2 x^2 + c_2 x\n",
    "$$\n",
    "* Función 3 (senoidal): \n",
    "$$\n",
    "f_3(x) = a_3 \\sin(b_3 x)\n",
    "$$\n",
    "\n",
    "1. Ajuste los datos con cada una de las funciones propuestas.\n",
    "2. Represente gráficamente los puntos del archivo, junto con las tres funciones ajustadas.\n",
    "3. Para cada ajuste, calcule el coeficiente de determinación (ver [https://en.wikipedia.org/wiki/Coefficient_of_determination#Definitions](https://en.wikipedia.org/wiki/Coefficient_of_determination#Definitions))\n",
    "$$ R^2 = 1-\\frac{S_{\\mathrm{res}}}{S_{\\mathrm{tot}}}$$\n",
    "donde, asumiendo que los datos vienen dados por los vectores $x=(x_1,...,x_n)$ e $y=(y_1,...,y_n)$, y el modelo ajustado viene dador por una función $x\\to f(x)$, \n",
    "$$ S_{\\mathrm{res}} = \\sum_{i=1}^n (y_i - f(x_i))^2$$\n",
    "$$ S_{\\mathrm{tot}} = \\sum_{i=1}^n (y_i - \\bar{y})^2 $$\n",
    "e $$\\bar{y} = \\frac{1}{n} \\sum_{i=1}^n y_i. $$ \n",
    "4. Considerando los valores de $R^2$ obtenidos:\n",
    "    1. Determine cuál de las funciones ajusta mejor.\n",
    "    2. Es la que más parámetros de ajuste tiene?"
   ]
  },
  {
   "cell_type": "code",
   "execution_count": null,
   "metadata": {},
   "outputs": [],
   "source": []
  }
 ],
 "metadata": {
  "@webio": {
   "lastCommId": null,
   "lastKernelId": null
  },
  "kernelspec": {
   "display_name": "Python 3 (ipykernel)",
   "language": "python",
   "name": "python3"
  },
  "language_info": {
   "codemirror_mode": {
    "name": "ipython",
    "version": 3
   },
   "file_extension": ".py",
   "mimetype": "text/x-python",
   "name": "python",
   "nbconvert_exporter": "python",
   "pygments_lexer": "ipython3",
   "version": "3.12.9"
  }
 },
 "nbformat": 4,
 "nbformat_minor": 4
}
