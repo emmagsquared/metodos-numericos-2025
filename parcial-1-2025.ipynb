{
 "cells": [
  {
   "cell_type": "markdown",
   "metadata": {},
   "source": [
    "# Métodos Numéricos 2025"
   ]
  },
  {
   "cell_type": "markdown",
   "metadata": {},
   "source": [
    "## Parcial 1 - Guías 1 y 2\n",
    "\n",
    "**Fecha de entrega:** Miércoles 16 de abril de 2025 hasta las 23:59h.\n",
    "\n",
    "## Nombres\n",
    "\n",
    "* Juana Perez, DNI: 10.000.000\n",
    "* Juan  Perez, DNI: 10.000.001\n",
    "\n",
    "## Nota sobre la programación en Julia\n",
    "\n",
    "Recuerde que su notebook tiene que poder ser entendida por otra persona. Para ello:\n",
    "\n",
    "* Cuando crea conveniente, use celdas/texto Markdown para desarrollar o comentar una idea.\n",
    "\n",
    "* Agregue comentarios a su código de ser necesario.\n",
    "\n",
    "* Realice gráficos que tengan etiquetas en los ejes y leyendas para cada curva o serie de puntos graficados.\n",
    "\n",
    "* Procure respetar reglas de buena programación:\n",
    "\n",
    "    * Use sangrías (indentación o bloques) adecuadamente y recuerde el concepto de alcance (o scope).\n",
    "\n",
    "    * Cuando sea posible, implemente funciones de caracter general, en vez de código específico a cada problema, facilitando así la reutilización de código.\n",
    "\n",
    "    * Implemente funciones que tengan los argumentos necesarios para su buen funcionamiento, en vez de utilizar variables globales.\n",
    " \n",
    "* **IMPORTANTE:** Antes de enviar el notebook para su corrección, no olvide resetear el kernel y re-evaluar nuevamente todas las celdas en orden, procurando que los resultados sean correctos."
   ]
  },
  {
   "cell_type": "code",
   "execution_count": null,
   "metadata": {},
   "outputs": [],
   "source": [
    "using Plots\n",
    "using LaTeXStrings\n",
    "#using DataFrames # Recuerde instalar este paquete ingresando en una celda: using Pkg; Pkg.add(\"DataFrames\")"
   ]
  },
  {
   "cell_type": "markdown",
   "metadata": {},
   "source": [
    "### Problema 1\n",
    "\n",
    "En este problema se les pide calcular el valor del [número de Euler](https://en.wikipedia.org/wiki/E_(mathematical_constant)) $e$ utilizando dos métodos: la serie de Taylor y el límite que lo define.\n",
    "\n",
    "#### Método 1: Serie de Taylor\n",
    "\n",
    "La constante $e$ puede ser aproximada mediante la siguiente serie de Taylor, que es una expansión alrededor de 0 para la función exponencial $e^x$:\n",
    "\n",
    "$$\n",
    "e = \\sum_{n=0}^{\\infty} \\frac{1}{n!} = 1 + \\frac{1}{1!} + \\frac{1}{2!} + \\frac{1}{3!} + \\cdots\n",
    "$$\n",
    "\n",
    "Donde $n!$ denota el factorial de $n$. \n",
    "Para una aproximación finita, se puede truncar la serie después de un número determinado de términos $M$.\n",
    "De este modo, la aproximación $e_M$ de $M$ términos es:\n",
    "\n",
    "$$\n",
    "e_M \\approx \\sum_{n=0}^{M} \\frac{1}{n!}\n",
    "$$\n",
    "\n",
    "#### Método 2: Límite\n",
    "\n",
    "Al valor de $e$ se lo puede obtener con el siguiente límite:\n",
    "\n",
    "$$\n",
    "e = \\lim_{n \\to \\infty} \\left(1 + \\frac{1}{n}\\right)^n\n",
    "$$\n",
    "\n",
    "Este límite es la base de la fórmula de crecimiento compuesto en matemáticas financieras y también es una forma fundamental de calcular $e$. \n",
    "Permite obtener una aproximación $e_n$ de $e$ para un valor finito de $n$:\n",
    "\n",
    "$$\n",
    "e_n \\approx \\left(1 + \\frac{1}{n}\\right)^n\n",
    "$$\n",
    "\n",
    "#### Objetivos y Preguntas\n",
    "\n",
    "En Julia, el [símbolo unicode](https://docs.julialang.org/en/v1/manual/unicode-input/) ℯ que puede escribirse ingresando `\\euler` más la tecla `tab` expresa el número de Euler con precisión arbitraria.\n",
    "Tenga en cuenta este dato, ya que lo necesitará mas adelante.\n",
    "\n",
    "1. Implemente funciones que calculen las aproximaciones $e_M$ y $e_n$ del número $e$.\n",
    "\n",
    "2. Utilizando el número de Euler de precisión arbitraria y los métodos mencionados con precisión de 64 bits, determine cuál es la mejor approximación que se puede obtener en cada caso. Más precisamente:\n",
    "\n",
    "   1. Evalúe $|e_M - ℯ|$ vs $M$ para $M=1,2,...$ hasta alcanzar el valor $M_{\\max}$ de $M$ a partir del cual no se obtienen mejoras. Indique el valor de $M_{\\max}$.\n",
    "\n",
    "   2. De manera similar, evalúe $|e_n-ℯ|$ vs $n$ para $n=2^k$ con $k=1,2,...$ hasta alcanzar el valor $k_{\\max}$ de $k$ a partir del cual no se obtienen mejoras. Indique los valores de $k_{\\max}$ y $n_{\\max}=2^{k_{\\max}}$.\n",
    "\n",
    "3. Grafique $|e_M - ℯ|$ vs $M$ y $|e_n-ℯ|$ vs $n$ para los rangos de valores determinados en el inciso anterior.\n",
    "\n",
    "4. Discuta la convergencia de ambas aproximaciones en función de $M$ y $n$ respectivamente. ¿De que forma decae el error en cada caso?\n",
    "\n",
    "5. Repita todo lo anterior, salvo el inciso 4., utilizando precisión de 32 bits."
   ]
  },
  {
   "cell_type": "code",
   "execution_count": null,
   "metadata": {},
   "outputs": [],
   "source": [
    "# AYUDA: debajo del comentario puede encontrar el número de Euler en \n",
    "# formato unicode para que lo pueda copiar si es que no sabe ingresarlo\n",
    "ℯ"
   ]
  },
  {
   "cell_type": "markdown",
   "metadata": {},
   "source": [
    "#### Rta 1.1"
   ]
  },
  {
   "cell_type": "code",
   "execution_count": null,
   "metadata": {},
   "outputs": [],
   "source": []
  },
  {
   "cell_type": "markdown",
   "metadata": {},
   "source": [
    "### Problema 2\n",
    "\n",
    "1. Considere la función \n",
    "    $$\n",
    "    f(x)\n",
    "    =\n",
    "    1- x -5x^2+2x^3\n",
    "    $$\n",
    "    y grafíquela en el intervalo que considere adecuado para encontrar sus raices.\n",
    "\n",
    "2. Agregue al gráfico la función cero, $x\\to 0$, y corrija el intervalo si lo considera necesario.\n",
    "\n",
    "3. Utilizando el gráfico, determine un intervalo que sólo contenga la segunda raíz (en orden de menor a mayor) de la función $f$. \n",
    "\n",
    "4. A partir del intervalo del inciso 3., utilice el **método de la bisección** para encontrar dicha raíz con un error relativo en $x$ menor a $\\varepsilon_x=10^{-10}$, y un valor de $|f(x^*)|$ menor a $\\varepsilon_y=10^{-5}$.\n",
    "\n",
    "5. Ahora encuentre dicha raíz utilizando el **método de Newton** y las mismas tolerancias. Recuerdo que aquí es necesaria al derivada de la función a la que le calculará la raíz. Le recomendamos graficarla para corroborar que es correcta.\n",
    "\n",
    "6. Ahora encuentre dicha raíz utilizando el **método de la secante** y las mismas tolerancias.\n",
    "\n",
    "7. Ahora encuentre dicha raíz utilizando el **método de la regula falsi** y las mismas tolerancias.\n",
    "\n",
    "8. En un mismo gráfico, grafique utilizando puntos de distintos colores, el error relativo $r_i$ vs el número de iteración $i$ retornado por cada método. Utilice las escalas log-lineal (es decir, logarítmica en el eje $y$ y lineal en el $x$). No olvide etiquetar adecuadamente los ejes y agregar una leyenda que indique el método utilizado para cada serie de puntos.\n",
    "\n",
    "9. Describa lo que observa en la figura del inciso anterior."
   ]
  },
  {
   "cell_type": "markdown",
   "metadata": {},
   "source": [
    "#### Rta 2.1"
   ]
  },
  {
   "cell_type": "code",
   "execution_count": null,
   "metadata": {},
   "outputs": [],
   "source": []
  }
 ],
 "metadata": {
  "@webio": {
   "lastCommId": null,
   "lastKernelId": null
  },
  "kernelspec": {
   "display_name": "Julia 1.11.4",
   "language": "julia",
   "name": "julia-1.11"
  },
  "language_info": {
   "file_extension": ".jl",
   "mimetype": "application/julia",
   "name": "julia",
   "version": "1.11.4"
  }
 },
 "nbformat": 4,
 "nbformat_minor": 4
}
